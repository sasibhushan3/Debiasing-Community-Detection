{
 "cells": [
  {
   "cell_type": "code",
   "execution_count": 1,
   "metadata": {
    "ExecuteTime": {
     "end_time": "2020-02-29T14:50:50.627757Z",
     "start_time": "2020-02-29T14:50:50.624765Z"
    },
    "colab": {},
    "colab_type": "code",
    "id": "E_BdgAnulHIJ"
   },
   "outputs": [],
   "source": [
    "import json\n",
    "import pprint"
   ]
  },
  {
   "cell_type": "code",
   "execution_count": 2,
   "metadata": {
    "ExecuteTime": {
     "end_time": "2020-02-29T14:51:04.271331Z",
     "start_time": "2020-02-29T14:50:52.826952Z"
    },
    "colab": {},
    "colab_type": "code",
    "id": "7zjLj0lPbdf0"
   },
   "outputs": [],
   "source": [
    "tweets =[]\n",
    "with open('../Gamergate_Dataset/Gamergate.json','r') as f:\n",
    "    for line in f.readlines():\n",
    "        tweets.append(json.loads(line))"
   ]
  },
  {
   "cell_type": "code",
   "execution_count": 3,
   "metadata": {
    "ExecuteTime": {
     "end_time": "2020-02-29T14:51:04.307247Z",
     "start_time": "2020-02-29T14:51:04.272297Z"
    },
    "colab": {},
    "colab_type": "code",
    "id": "hkNifVU3go1h"
   },
   "outputs": [],
   "source": [
    "with open('../Gamergate_Dataset/Labels_for_7320_users/gamergate_opposer_feminist_usernames', 'r') as f:\n",
    "    opposer =f.read().splitlines()\n",
    "with open('../Gamergate_Dataset/Labels_for_7320_users/gamergate_supporter_misogynist_usernames','r') as f:\n",
    "    supporter = f.read().splitlines()\n",
    "with open('../Gamergate_Dataset/Labels_for_7320_users/unaffiliated_usernames','r') as f:\n",
    "    unaffiliated = f.read().splitlines()"
   ]
  },
  {
   "cell_type": "code",
   "execution_count": 4,
   "metadata": {
    "ExecuteTime": {
     "end_time": "2020-02-29T14:51:04.312227Z",
     "start_time": "2020-02-29T14:51:04.308265Z"
    },
    "colab": {},
    "colab_type": "code",
    "id": "0wnhfIUdhzKb"
   },
   "outputs": [],
   "source": [
    "allusers = opposer + unaffiliated + supporter"
   ]
  },
  {
   "cell_type": "code",
   "execution_count": 5,
   "metadata": {
    "ExecuteTime": {
     "end_time": "2020-02-29T14:51:07.916023Z",
     "start_time": "2020-02-29T14:51:04.313224Z"
    },
    "colab": {},
    "colab_type": "code",
    "id": "__voivf_ccJb"
   },
   "outputs": [],
   "source": [
    "import networkx as nx"
   ]
  },
  {
   "cell_type": "code",
   "execution_count": 6,
   "metadata": {
    "ExecuteTime": {
     "end_time": "2020-02-29T14:51:07.939806Z",
     "start_time": "2020-02-29T14:51:07.926804Z"
    },
    "colab": {},
    "colab_type": "code",
    "id": "_3ZdeB_bfS_s"
   },
   "outputs": [],
   "source": [
    "G = nx.Graph()\n",
    "G.add_nodes_from(allusers)"
   ]
  },
  {
   "cell_type": "code",
   "execution_count": 7,
   "metadata": {
    "ExecuteTime": {
     "end_time": "2020-02-29T18:15:07.358564Z",
     "start_time": "2020-02-29T18:14:57.211460Z"
    },
    "colab": {},
    "colab_type": "code",
    "id": "PKgi7oAGfygY"
   },
   "outputs": [],
   "source": [
    "for tweet in tweets:\n",
    "    username = tweet['user']['screen_name']\n",
    "    if username not in allusers:\n",
    "        continue\n",
    "    if 'retweeted_status' not in tweet:\n",
    "        continue\n",
    "    retweeteduser = tweet['retweeted_status']['user']['screen_name']\n",
    "    if retweeteduser not in allusers:\n",
    "        continue\n",
    "    G.add_edge(username,retweeteduser)\n",
    "G = G.to_undirected()"
   ]
  },
  {
   "cell_type": "markdown",
   "metadata": {},
   "source": [
    "# Louvain"
   ]
  },
  {
   "cell_type": "code",
   "execution_count": 8,
   "metadata": {
    "ExecuteTime": {
     "end_time": "2020-02-29T14:51:16.294358Z",
     "start_time": "2020-02-29T14:51:16.285382Z"
    }
   },
   "outputs": [],
   "source": [
    "import community as community_louvain"
   ]
  },
  {
   "cell_type": "code",
   "execution_count": 69,
   "metadata": {
    "ExecuteTime": {
     "end_time": "2020-02-29T18:15:09.008269Z",
     "start_time": "2020-02-29T18:15:08.029060Z"
    }
   },
   "outputs": [],
   "source": [
    "partition = community_louvain.best_partition(G)"
   ]
  },
  {
   "cell_type": "code",
   "execution_count": 70,
   "metadata": {
    "ExecuteTime": {
     "end_time": "2020-02-29T18:15:09.014227Z",
     "start_time": "2020-02-29T18:15:09.009264Z"
    }
   },
   "outputs": [
    {
     "data": {
      "text/plain": [
       "7320"
      ]
     },
     "execution_count": 70,
     "metadata": {},
     "output_type": "execute_result"
    }
   ],
   "source": [
    "len(partition)"
   ]
  },
  {
   "cell_type": "markdown",
   "metadata": {},
   "source": [
    "# Get Communities and Post-Processing"
   ]
  },
  {
   "cell_type": "code",
   "execution_count": 71,
   "metadata": {},
   "outputs": [],
   "source": [
    "import numpy as np"
   ]
  },
  {
   "cell_type": "code",
   "execution_count": 108,
   "metadata": {
    "ExecuteTime": {
     "end_time": "2020-02-29T18:15:09.020210Z",
     "start_time": "2020-02-29T18:15:09.016240Z"
    }
   },
   "outputs": [
    {
     "data": {
      "text/plain": [
       "{0: 2701, 2: 1206}"
      ]
     },
     "execution_count": 108,
     "metadata": {},
     "output_type": "execute_result"
    }
   ],
   "source": [
    "tmp = np.unique(list(partition.values()), return_counts=True)\n",
    "tmp = list(zip(*tmp))\n",
    "major_communities = sorted(tmp, key=lambda x: x[1], reverse=True)[:2]\n",
    "# sum([i[1] for i in tmp])/7320*100\n",
    "major_communities = dict(major_communities)\n",
    "major_communities"
   ]
  },
  {
   "cell_type": "code",
   "execution_count": 109,
   "metadata": {},
   "outputs": [],
   "source": [
    "communities = {k: [] for k in major_communities}\n",
    "for user, community in partition.items():\n",
    "    if community in major_communities:\n",
    "        communities[community].append(user)"
   ]
  },
  {
   "cell_type": "code",
   "execution_count": 110,
   "metadata": {},
   "outputs": [],
   "source": [
    "majorities = {}\n",
    "for community, users in communities.items():\n",
    "    o = 0\n",
    "    s = 0\n",
    "    u = 0\n",
    "    for sn in users:\n",
    "        if sn in opposer:\n",
    "            o += 1\n",
    "        elif sn in supporter:\n",
    "            s += 1\n",
    "        else:\n",
    "            u += 1\n",
    "    if max(s, o, u) == s:\n",
    "        majorities[community] = 1\n",
    "    elif max(s, o, u) == o:\n",
    "        majorities[community] = 0\n",
    "    else:\n",
    "        majorities[community] = 2"
   ]
  },
  {
   "cell_type": "code",
   "execution_count": 111,
   "metadata": {},
   "outputs": [],
   "source": [
    "user_pred_labels = {k: [] for k in allusers}\n",
    "for community, users in communities.items():\n",
    "    for user in users:\n",
    "        user_pred_labels[user].append(majorities[community])"
   ]
  },
  {
   "cell_type": "code",
   "execution_count": 112,
   "metadata": {},
   "outputs": [],
   "source": [
    "for _, i in user_pred_labels.items():\n",
    "    assert len(i)<=1"
   ]
  },
  {
   "cell_type": "code",
   "execution_count": 113,
   "metadata": {},
   "outputs": [],
   "source": [
    "for user, labels in user_pred_labels.items():\n",
    "    if len(labels) == 0:\n",
    "        user_pred_labels[user] = -1\n",
    "        continue\n",
    "    user_pred_labels[user] = sum(user_pred_labels[user])*2//len(user_pred_labels[user])\n",
    "    if user_pred_labels[user] > 1:\n",
    "        user_pred_labels[user] = 1"
   ]
  },
  {
   "cell_type": "code",
   "execution_count": 114,
   "metadata": {},
   "outputs": [],
   "source": [
    "accuracy_user_pred = {k: v if v >= 0 else 2 for k, v in user_pred_labels.items()}"
   ]
  },
  {
   "cell_type": "code",
   "execution_count": 115,
   "metadata": {},
   "outputs": [],
   "source": [
    "accuracy_user_gt = {}\n",
    "for user, label in user_pred_labels.items():\n",
    "    if user in supporter:\n",
    "        accuracy_user_gt[user] = 1\n",
    "    elif user in opposer:\n",
    "        accuracy_user_gt[user] = 0\n",
    "    else:\n",
    "        accuracy_user_gt[user] = 2"
   ]
  },
  {
   "cell_type": "markdown",
   "metadata": {},
   "source": [
    "# Accuracy and Jaccard Scores"
   ]
  },
  {
   "cell_type": "code",
   "execution_count": 116,
   "metadata": {},
   "outputs": [],
   "source": [
    "from sklearn.metrics import classification_report, jaccard_score\n",
    "from sklearn.preprocessing import OneHotEncoder"
   ]
  },
  {
   "cell_type": "code",
   "execution_count": 117,
   "metadata": {},
   "outputs": [
    {
     "name": "stdout",
     "output_type": "stream",
     "text": [
      "              precision    recall  f1-score   support\n",
      "\n",
      "           0       0.76      0.55      0.64      3778\n",
      "           1       0.68      0.26      0.38      3117\n",
      "           2       0.08      0.62      0.14       425\n",
      "\n",
      "    accuracy                           0.43      7320\n",
      "   macro avg       0.51      0.48      0.38      7320\n",
      "weighted avg       0.69      0.43      0.50      7320\n",
      "\n"
     ]
    }
   ],
   "source": [
    "print(classification_report(list(accuracy_user_gt.values()), list(accuracy_user_pred.values())))"
   ]
  },
  {
   "cell_type": "code",
   "execution_count": 118,
   "metadata": {},
   "outputs": [],
   "source": [
    "jaccard_user_pred = {k: v if v >= 0 else 2 for k, v in user_pred_labels.items()}"
   ]
  },
  {
   "cell_type": "code",
   "execution_count": 119,
   "metadata": {},
   "outputs": [],
   "source": [
    "jaccard_user_gt = {}\n",
    "for user, label in user_pred_labels.items():\n",
    "    if label == -1:\n",
    "        jaccard_user_gt[user] = 0\n",
    "    elif user in supporter:\n",
    "        jaccard_user_gt[user] = 1\n",
    "    elif user in opposer:\n",
    "        jaccard_user_gt[user] = 0\n",
    "    else:\n",
    "        jaccard_user_gt[user] = 2"
   ]
  },
  {
   "cell_type": "code",
   "execution_count": 120,
   "metadata": {},
   "outputs": [],
   "source": [
    "onehot = OneHotEncoder(handle_unknown='ignore')\n",
    "jaccard_gt = onehot.fit_transform([[i] for i in list(jaccard_user_gt.values())]).toarray()\n",
    "jaccard_pred = onehot.transform([[i] for i in list(jaccard_user_pred.values())]).toarray()"
   ]
  },
  {
   "cell_type": "code",
   "execution_count": 121,
   "metadata": {},
   "outputs": [
    {
     "name": "stdout",
     "output_type": "stream",
     "text": [
      "0.3941256830601093\n"
     ]
    }
   ],
   "source": [
    "print(jaccard_score(jaccard_gt, jaccard_pred, average='samples'))"
   ]
  },
  {
   "cell_type": "markdown",
   "metadata": {},
   "source": [
    "# Discarded Users"
   ]
  },
  {
   "cell_type": "code",
   "execution_count": 122,
   "metadata": {},
   "outputs": [],
   "source": [
    "discarded_users = []\n",
    "for user, cid in partition.items():\n",
    "    if cid not in major_communities:\n",
    "        discarded_users.append(user)"
   ]
  },
  {
   "cell_type": "code",
   "execution_count": 123,
   "metadata": {},
   "outputs": [
    {
     "data": {
      "text/plain": [
       "46.62568306010929"
      ]
     },
     "execution_count": 123,
     "metadata": {},
     "output_type": "execute_result"
    }
   ],
   "source": [
    "len(discarded_users)/len(allusers)*100"
   ]
  },
  {
   "cell_type": "markdown",
   "metadata": {},
   "source": [
    "# Discarded Hashtags"
   ]
  },
  {
   "cell_type": "code",
   "execution_count": 124,
   "metadata": {},
   "outputs": [],
   "source": [
    "discarded_ht = []\n",
    "for tweet in tweets:\n",
    "    if tweet['user']['screen_name'] in discarded_users:\n",
    "        discarded_ht.extend([ht['text'].lower() for ht in tweet['entities']['hashtags']])\n",
    "discarded_ht = set(discarded_ht)\n",
    "\n",
    "all_ht = []\n",
    "for tweet in tweets:\n",
    "    if tweet['user']['screen_name'] in allusers:\n",
    "        all_ht.extend([ht['text'].lower() for ht in tweet['entities']['hashtags']])\n",
    "all_ht = set(all_ht)"
   ]
  },
  {
   "cell_type": "code",
   "execution_count": 125,
   "metadata": {},
   "outputs": [
    {
     "data": {
      "text/plain": [
       "64.9763353617309"
      ]
     },
     "execution_count": 125,
     "metadata": {},
     "output_type": "execute_result"
    }
   ],
   "source": [
    "len(discarded_ht)/len(all_ht)*100"
   ]
  }
 ],
 "metadata": {
  "accelerator": "GPU",
  "colab": {
   "name": "AI and Ethics.ipynb",
   "provenance": []
  },
  "kernelspec": {
   "display_name": "Python 3.8.2 64-bit ('clusterfuck': conda)",
   "language": "python",
   "name": "python38264bitclusterfuckconda11faec27ee674a6390a9afae81456834"
  },
  "language_info": {
   "codemirror_mode": {
    "name": "ipython",
    "version": 3
   },
   "file_extension": ".py",
   "mimetype": "text/x-python",
   "name": "python",
   "nbconvert_exporter": "python",
   "pygments_lexer": "ipython3",
   "version": "3.8.2"
  }
 },
 "nbformat": 4,
 "nbformat_minor": 1
}
