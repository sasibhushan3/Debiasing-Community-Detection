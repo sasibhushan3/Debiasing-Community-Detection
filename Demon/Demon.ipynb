{
  "nbformat": 4,
  "nbformat_minor": 0,
  "metadata": {
    "colab": {
      "name": "Demon.ipynb",
      "provenance": []
    },
    "kernelspec": {
      "name": "python3",
      "display_name": "Python 3"
    }
  },
  "cells": [
    {
      "cell_type": "code",
      "metadata": {
        "id": "7e1n4o0U609X",
        "colab_type": "code",
        "colab": {}
      },
      "source": [
        "# pip install snap-stanford"
      ],
      "execution_count": 0,
      "outputs": []
    },
    {
      "cell_type": "code",
      "metadata": {
        "id": "MO7iI23R7W28",
        "colab_type": "code",
        "colab": {}
      },
      "source": [
        "# import snap"
      ],
      "execution_count": 0,
      "outputs": []
    },
    {
      "cell_type": "markdown",
      "metadata": {
        "id": "tI2Rrde3YdK1",
        "colab_type": "text"
      },
      "source": [
        "#Imports and Data loading"
      ]
    },
    {
      "cell_type": "code",
      "metadata": {
        "id": "QoQuyevWvDgr",
        "colab_type": "code",
        "outputId": "1d59bd88-f3d3-46db-c9e2-148b820e2c0a",
        "colab": {
          "base_uri": "https://localhost:8080/",
          "height": 134
        }
      },
      "source": [
        "!pip install demon"
      ],
      "execution_count": 0,
      "outputs": [
        {
          "output_type": "stream",
          "text": [
            "Collecting demon\n",
            "  Downloading https://files.pythonhosted.org/packages/87/21/e84965594c51885a2f3b5f6ff224ba58f932cc66241489e0d763b9ac531b/demon-2.0.5-py3-none-any.whl\n",
            "Requirement already satisfied: future in /usr/local/lib/python3.6/dist-packages (from demon) (0.16.0)\n",
            "Requirement already satisfied: networkx in /usr/local/lib/python3.6/dist-packages (from demon) (2.4)\n",
            "Requirement already satisfied: decorator>=4.3.0 in /usr/local/lib/python3.6/dist-packages (from networkx->demon) (4.4.2)\n",
            "Installing collected packages: demon\n",
            "Successfully installed demon-2.0.5\n"
          ],
          "name": "stdout"
        }
      ]
    },
    {
      "cell_type": "code",
      "metadata": {
        "id": "GDEilpJg_kP9",
        "colab_type": "code",
        "colab": {}
      },
      "source": [
        "import json\n",
        "import pprint"
      ],
      "execution_count": 0,
      "outputs": []
    },
    {
      "cell_type": "code",
      "metadata": {
        "id": "unzLSsM8vH9J",
        "colab_type": "code",
        "colab": {}
      },
      "source": [
        "import demon as d"
      ],
      "execution_count": 0,
      "outputs": []
    },
    {
      "cell_type": "code",
      "metadata": {
        "id": "ekGm_Csw_a9k",
        "colab_type": "code",
        "outputId": "d9aa65f7-6bac-40ec-f204-eebadda13dfa",
        "colab": {
          "base_uri": "https://localhost:8080/",
          "height": 121
        }
      },
      "source": [
        "from google.colab import drive\n",
        "drive.mount('/content/drive')"
      ],
      "execution_count": 0,
      "outputs": [
        {
          "output_type": "stream",
          "text": [
            "Go to this URL in a browser: https://accounts.google.com/o/oauth2/auth?client_id=947318989803-6bn6qk8qdgf4n4g3pfee6491hc0brc4i.apps.googleusercontent.com&redirect_uri=urn%3aietf%3awg%3aoauth%3a2.0%3aoob&response_type=code&scope=email%20https%3a%2f%2fwww.googleapis.com%2fauth%2fdocs.test%20https%3a%2f%2fwww.googleapis.com%2fauth%2fdrive%20https%3a%2f%2fwww.googleapis.com%2fauth%2fdrive.photos.readonly%20https%3a%2f%2fwww.googleapis.com%2fauth%2fpeopleapi.readonly\n",
            "\n",
            "Enter your authorization code:\n",
            "··········\n",
            "Mounted at /content/drive\n"
          ],
          "name": "stdout"
        }
      ]
    },
    {
      "cell_type": "code",
      "metadata": {
        "id": "l0efSf5q-MwT",
        "colab_type": "code",
        "colab": {}
      },
      "source": [
        "tweets =[]\n",
        "with open('/content/drive/My Drive/Ai_Ethics/Gamergate.json','r') as f:\n",
        "    for line in f.readlines():\n",
        "        tweets.append(json.loads(line))"
      ],
      "execution_count": 0,
      "outputs": []
    },
    {
      "cell_type": "code",
      "metadata": {
        "id": "a6CRmFgX_Zd_",
        "colab_type": "code",
        "colab": {}
      },
      "source": [
        "with open('/content/drive/My Drive/Ai_Ethics/Labels_for_7320_users/gamergate_opposer_feminist_usernames', 'r') as f:\n",
        "    opposer =f.read().splitlines()\n",
        "with open('/content/drive/My Drive/Ai_Ethics/Labels_for_7320_users/gamergate_supporter_misogynist_usernames','r') as f:\n",
        "    supporter = f.read().splitlines()\n",
        "with open('/content/drive/My Drive/Ai_Ethics/Labels_for_7320_users/unaffiliated_usernames','r') as f:\n",
        "    unaffiliated = f.read().splitlines()"
      ],
      "execution_count": 0,
      "outputs": []
    },
    {
      "cell_type": "code",
      "metadata": {
        "id": "wXjKjVMv_rpo",
        "colab_type": "code",
        "colab": {}
      },
      "source": [
        "allusers = opposer + unaffiliated + supporter"
      ],
      "execution_count": 0,
      "outputs": []
    },
    {
      "cell_type": "code",
      "metadata": {
        "id": "0fEaaLASDiJV",
        "colab_type": "code",
        "outputId": "b5b92e95-0015-40d8-cd75-6ca5f31daa23",
        "colab": {
          "base_uri": "https://localhost:8080/",
          "height": 34
        }
      },
      "source": [
        "# type(allusers)"
      ],
      "execution_count": 0,
      "outputs": [
        {
          "output_type": "execute_result",
          "data": {
            "text/plain": [
              "list"
            ]
          },
          "metadata": {
            "tags": []
          },
          "execution_count": 58
        }
      ]
    },
    {
      "cell_type": "markdown",
      "metadata": {
        "id": "Hh_UNihwYiQV",
        "colab_type": "text"
      },
      "source": [
        "#Netowork Graph creation"
      ]
    },
    {
      "cell_type": "code",
      "metadata": {
        "id": "vAOpS5zD_tdw",
        "colab_type": "code",
        "colab": {}
      },
      "source": [
        "import networkx as nx"
      ],
      "execution_count": 0,
      "outputs": []
    },
    {
      "cell_type": "code",
      "metadata": {
        "id": "GtDjTsql_vZk",
        "colab_type": "code",
        "colab": {}
      },
      "source": [
        "G = nx.Graph()"
      ],
      "execution_count": 0,
      "outputs": []
    },
    {
      "cell_type": "code",
      "metadata": {
        "id": "Ctk4ZzVc_xdx",
        "colab_type": "code",
        "colab": {}
      },
      "source": [
        "G.add_nodes_from(allusers)"
      ],
      "execution_count": 0,
      "outputs": []
    },
    {
      "cell_type": "code",
      "metadata": {
        "id": "yKDY3mz7_zGO",
        "colab_type": "code",
        "colab": {}
      },
      "source": [
        "for tweet in tweets:\n",
        "    username = tweet['user']['screen_name']\n",
        "    if username not in allusers:\n",
        "        continue\n",
        "    if 'retweeted_status' not in tweet:\n",
        "        continue\n",
        "    retweeteduser = tweet['retweeted_status']['user']['screen_name']\n",
        "    if retweeteduser not in allusers:\n",
        "        continue\n",
        "    # G.add_nodes_from([username,retweeteduser])\n",
        "    G.add_edge(username,retweeteduser)"
      ],
      "execution_count": 0,
      "outputs": []
    },
    {
      "cell_type": "code",
      "metadata": {
        "id": "a79fisNwFpEd",
        "colab_type": "code",
        "colab": {}
      },
      "source": [
        "# len(G.nodes)"
      ],
      "execution_count": 0,
      "outputs": []
    },
    {
      "cell_type": "code",
      "metadata": {
        "id": "25B9JOM7_49N",
        "colab_type": "code",
        "colab": {}
      },
      "source": [
        "G = G.to_undirected()"
      ],
      "execution_count": 0,
      "outputs": []
    },
    {
      "cell_type": "code",
      "metadata": {
        "id": "OBM-fsKvD0wi",
        "colab_type": "code",
        "colab": {}
      },
      "source": [
        "l0 = list(G.edges)"
      ],
      "execution_count": 0,
      "outputs": []
    },
    {
      "cell_type": "code",
      "metadata": {
        "id": "1IAfdzHJEUtd",
        "colab_type": "code",
        "outputId": "6d0ffe8c-4a5a-4dc4-b256-d36133ea4e89",
        "colab": {
          "base_uri": "https://localhost:8080/",
          "height": 34
        }
      },
      "source": [
        "len(l0)"
      ],
      "execution_count": 0,
      "outputs": [
        {
          "output_type": "execute_result",
          "data": {
            "text/plain": [
              "30238"
            ]
          },
          "metadata": {
            "tags": []
          },
          "execution_count": 15
        }
      ]
    },
    {
      "cell_type": "code",
      "metadata": {
        "id": "IiysDFEsB-Lv",
        "colab_type": "code",
        "colab": {}
      },
      "source": [
        "# import demon as d"
      ],
      "execution_count": 0,
      "outputs": []
    },
    {
      "cell_type": "markdown",
      "metadata": {
        "id": "yDdEJv9iZHEo",
        "colab_type": "text"
      },
      "source": [
        "#Algorithm"
      ]
    },
    {
      "cell_type": "code",
      "metadata": {
        "id": "yEaMafn5EjRc",
        "colab_type": "code",
        "outputId": "d8145893-2630-463d-a786-721968394d72",
        "colab": {
          "base_uri": "https://localhost:8080/",
          "height": 67
        }
      },
      "source": [
        "dm = d.Demon(graph=G, epsilon=0.25, min_community_size=3)\n",
        "coms = dm.execute()"
      ],
      "execution_count": 0,
      "outputs": [
        {
          "output_type": "stream",
          "text": [
            "Exec: 100%|████████████████████████"
          ],
          "name": "stderr"
        },
        {
          "output_type": "stream",
          "text": [
            "Time:  'execute' 16.26 sec\n",
            "------------------------------------\n"
          ],
          "name": "stdout"
        },
        {
          "output_type": "stream",
          "text": [
            "\n"
          ],
          "name": "stderr"
        }
      ]
    },
    {
      "cell_type": "code",
      "metadata": {
        "id": "rTgeTeu1E-X2",
        "colab_type": "code",
        "outputId": "be6b011e-56ea-42b9-ca6c-37c6d223666c",
        "colab": {
          "base_uri": "https://localhost:8080/",
          "height": 34
        }
      },
      "source": [
        "# type(coms[0])"
      ],
      "execution_count": 0,
      "outputs": [
        {
          "output_type": "execute_result",
          "data": {
            "text/plain": [
              "tuple"
            ]
          },
          "metadata": {
            "tags": []
          },
          "execution_count": 19
        }
      ]
    },
    {
      "cell_type": "code",
      "metadata": {
        "id": "mWRc4r6_E3HD",
        "colab_type": "code",
        "colab": {}
      },
      "source": [
        "lo = []\n",
        "for i in coms:\n",
        "  # print(len(i))\n",
        "  lo.append(len(i))"
      ],
      "execution_count": 0,
      "outputs": []
    },
    {
      "cell_type": "code",
      "metadata": {
        "id": "Yj5puceLIXPW",
        "colab_type": "code",
        "colab": {}
      },
      "source": [
        "m1 = []\n",
        "m2 = []\n",
        "m3 = []\n",
        "for i in coms:\n",
        "  c1 = 0\n",
        "  c2 = 0\n",
        "  c3 = 0\n",
        "  for j in i:\n",
        "    if j in opposer:\n",
        "      c1+=1\n",
        "    if j in supporter:\n",
        "      c2+=1\n",
        "    if j in unaffiliated:\n",
        "      c3+=1\n",
        "  m1.append(c1)\n",
        "  m2.append(c2)\n",
        "  m3.append(c3)"
      ],
      "execution_count": 0,
      "outputs": []
    },
    {
      "cell_type": "code",
      "metadata": {
        "id": "VuLFHbHnI4Kq",
        "colab_type": "code",
        "outputId": "46afc1f0-a4e8-403f-ec42-1b5351fea3b8",
        "colab": {
          "base_uri": "https://localhost:8080/",
          "height": 34
        }
      },
      "source": [
        "m1"
      ],
      "execution_count": 0,
      "outputs": [
        {
          "output_type": "execute_result",
          "data": {
            "text/plain": [
              "[288, 170, 298, 303, 287, 359, 357, 284, 524, 363, 298, 624, 415, 292]"
            ]
          },
          "metadata": {
            "tags": []
          },
          "execution_count": 22
        }
      ]
    },
    {
      "cell_type": "code",
      "metadata": {
        "id": "kqtRwN_kI6KW",
        "colab_type": "code",
        "outputId": "9fe8ba22-c4a5-4aaa-ba4b-a120a7652ebd",
        "colab": {
          "base_uri": "https://localhost:8080/",
          "height": 34
        }
      },
      "source": [
        "m2"
      ],
      "execution_count": 0,
      "outputs": [
        {
          "output_type": "execute_result",
          "data": {
            "text/plain": [
              "[82, 79, 98, 758, 649, 805, 843, 746, 765, 870, 727, 800, 985, 772]"
            ]
          },
          "metadata": {
            "tags": []
          },
          "execution_count": 23
        }
      ]
    },
    {
      "cell_type": "code",
      "metadata": {
        "id": "quMC2brHI7pO",
        "colab_type": "code",
        "outputId": "d92ca986-bf7f-4960-b1ec-5209d02a8ab6",
        "colab": {
          "base_uri": "https://localhost:8080/",
          "height": 34
        }
      },
      "source": [
        "m3"
      ],
      "execution_count": 0,
      "outputs": [
        {
          "output_type": "execute_result",
          "data": {
            "text/plain": [
              "[4, 3, 4, 7, 6, 6, 11, 7, 8, 7, 4, 8, 11, 6]"
            ]
          },
          "metadata": {
            "tags": []
          },
          "execution_count": 24
        }
      ]
    },
    {
      "cell_type": "code",
      "metadata": {
        "id": "9teHgpazJ4U5",
        "colab_type": "code",
        "colab": {}
      },
      "source": [
        "m4 = []\n",
        "for i in range(len(m1)):\n",
        "  mk = [m1[i],m2[i],m3[i]]\n",
        "  m4.append(mk.index(max(mk)))"
      ],
      "execution_count": 0,
      "outputs": []
    },
    {
      "cell_type": "code",
      "metadata": {
        "id": "KwviMXLpKcfK",
        "colab_type": "code",
        "outputId": "4e311645-0ea7-4c7d-9076-bbbcccabf1a8",
        "colab": {
          "base_uri": "https://localhost:8080/",
          "height": 34
        }
      },
      "source": [
        "m4"
      ],
      "execution_count": 0,
      "outputs": [
        {
          "output_type": "execute_result",
          "data": {
            "text/plain": [
              "[0, 0, 0, 1, 1, 1, 1, 1, 1, 1, 1, 1, 1, 1]"
            ]
          },
          "metadata": {
            "tags": []
          },
          "execution_count": 26
        }
      ]
    },
    {
      "cell_type": "code",
      "metadata": {
        "id": "jpgWdfCLKx1W",
        "colab_type": "code",
        "outputId": "b635c661-7be9-46e6-e718-c66b4a155948",
        "colab": {
          "base_uri": "https://localhost:8080/",
          "height": 34
        }
      },
      "source": [
        "# len(allusers)"
      ],
      "execution_count": 0,
      "outputs": [
        {
          "output_type": "execute_result",
          "data": {
            "text/plain": [
              "7320"
            ]
          },
          "metadata": {
            "tags": []
          },
          "execution_count": 27
        }
      ]
    },
    {
      "cell_type": "code",
      "metadata": {
        "id": "PF1bQWPrK2Bg",
        "colab_type": "code",
        "colab": {}
      },
      "source": [
        "act = []\n",
        "for i in allusers:\n",
        "  if i in opposer:\n",
        "    act.append(0)\n",
        "  if i in supporter:\n",
        "    act.append(1)\n",
        "  if i in unaffiliated:\n",
        "    act.append(2)"
      ],
      "execution_count": 0,
      "outputs": []
    },
    {
      "cell_type": "code",
      "metadata": {
        "id": "othFisUGLJv8",
        "colab_type": "code",
        "outputId": "40ffacce-190b-48a8-ab4a-5a41359a317e",
        "colab": {
          "base_uri": "https://localhost:8080/",
          "height": 34
        }
      },
      "source": [
        "len(act)"
      ],
      "execution_count": 0,
      "outputs": [
        {
          "output_type": "execute_result",
          "data": {
            "text/plain": [
              "7320"
            ]
          },
          "metadata": {
            "tags": []
          },
          "execution_count": 30
        }
      ]
    },
    {
      "cell_type": "code",
      "metadata": {
        "id": "S77Pa27ELNv-",
        "colab_type": "code",
        "colab": {}
      },
      "source": [
        "dict1 = {}\n",
        "c = 0\n",
        "li = []\n",
        "for i in allusers:\n",
        "  lu = []\n",
        "  for j in range(len(coms)):\n",
        "    if i in coms[j]:\n",
        "      lu.append(m4[j])\n",
        "  if(len(lu) == 1):\n",
        "    dict1[i] = lu[0]\n",
        "  elif(len(lu) > 1):\n",
        "    dict1[i] = max(set(lu), key = lu.count) \n",
        "  elif(len(lu) == 0):\n",
        "    li.append(i)\n",
        "  # print(c)\n",
        "  c+=1"
      ],
      "execution_count": 0,
      "outputs": []
    },
    {
      "cell_type": "code",
      "metadata": {
        "id": "yac3k0p7I9Dd",
        "colab_type": "code",
        "outputId": "6e5aa30b-4d66-4b9a-ec29-19db709f4e68",
        "colab": {
          "base_uri": "https://localhost:8080/",
          "height": 34
        }
      },
      "source": [
        "len(li)"
      ],
      "execution_count": 0,
      "outputs": [
        {
          "output_type": "execute_result",
          "data": {
            "text/plain": [
              "4810"
            ]
          },
          "metadata": {
            "tags": []
          },
          "execution_count": 32
        }
      ]
    },
    {
      "cell_type": "markdown",
      "metadata": {
        "id": "PYNGXBueZMGc",
        "colab_type": "text"
      },
      "source": [
        "#Predictions and Evaluation"
      ]
    },
    {
      "cell_type": "code",
      "metadata": {
        "id": "AKdNtztiNwlj",
        "colab_type": "code",
        "colab": {}
      },
      "source": [
        "act1 = []\n",
        "pred = []\n",
        "for i in allusers:\n",
        "  if i not in li:\n",
        "    if i in opposer:\n",
        "      act1.append(0)\n",
        "    if i in supporter:\n",
        "      act1.append(1)\n",
        "    if i in unaffiliated:\n",
        "      act1.append(2)\n",
        "    pred.append(dict1[i]) \n"
      ],
      "execution_count": 0,
      "outputs": []
    },
    {
      "cell_type": "code",
      "metadata": {
        "id": "sYSXrErxOMhC",
        "colab_type": "code",
        "outputId": "4839b86b-43bb-43b1-aeac-d6b70488bb6e",
        "colab": {
          "base_uri": "https://localhost:8080/",
          "height": 34
        }
      },
      "source": [
        "len(pred)"
      ],
      "execution_count": 0,
      "outputs": [
        {
          "output_type": "execute_result",
          "data": {
            "text/plain": [
              "2510"
            ]
          },
          "metadata": {
            "tags": []
          },
          "execution_count": 35
        }
      ]
    },
    {
      "cell_type": "code",
      "metadata": {
        "id": "3nKr5MOwwgyE",
        "colab_type": "code",
        "colab": {}
      },
      "source": [
        "discarded_users = len(li)"
      ],
      "execution_count": 0,
      "outputs": []
    },
    {
      "cell_type": "code",
      "metadata": {
        "id": "x-GTiwJ8xb-n",
        "colab_type": "code",
        "outputId": "d4a36ad9-8dfa-469a-c776-6b6cd2193e73",
        "colab": {
          "base_uri": "https://localhost:8080/",
          "height": 34
        }
      },
      "source": [
        "## precentage discared users\n",
        "\n",
        "print('presentage discarded users: ',discarded_users*100/len(G.nodes))"
      ],
      "execution_count": 0,
      "outputs": [
        {
          "output_type": "stream",
          "text": [
            "presentage discarded users:  65.7103825136612\n"
          ],
          "name": "stdout"
        }
      ]
    },
    {
      "cell_type": "code",
      "metadata": {
        "id": "aU78zJyLxsnZ",
        "colab_type": "code",
        "colab": {}
      },
      "source": [
        "discarded_ht = []\n",
        "for tweet in tweets:\n",
        "    if tweet['user']['screen_name'] in li:\n",
        "        discarded_ht.extend([ht['text'].lower() for ht in tweet['entities']['hashtags']])\n",
        "discarded_ht = set(discarded_ht)"
      ],
      "execution_count": 0,
      "outputs": []
    },
    {
      "cell_type": "code",
      "metadata": {
        "id": "zCCkcRuNxzys",
        "colab_type": "code",
        "colab": {}
      },
      "source": [
        "# len(discarded_ht)"
      ],
      "execution_count": 0,
      "outputs": []
    },
    {
      "cell_type": "code",
      "metadata": {
        "id": "e9a5XcoJ0bvx",
        "colab_type": "code",
        "colab": {}
      },
      "source": [
        "all_ht = []\n",
        "for tweet in tweets:\n",
        "    if tweet['user']['screen_name'] in allusers:\n",
        "        all_ht.extend([ht['text'].lower() for ht in tweet['entities']['hashtags']])\n",
        "all_ht = set(all_ht)"
      ],
      "execution_count": 0,
      "outputs": []
    },
    {
      "cell_type": "code",
      "metadata": {
        "id": "UjGhPvE10g8I",
        "colab_type": "code",
        "outputId": "756ac745-50eb-4bb5-cf0b-da3ca920297f",
        "colab": {
          "base_uri": "https://localhost:8080/",
          "height": 34
        }
      },
      "source": [
        "# len(all_ht)"
      ],
      "execution_count": 0,
      "outputs": [
        {
          "output_type": "execute_result",
          "data": {
            "text/plain": [
              "1479"
            ]
          },
          "metadata": {
            "tags": []
          },
          "execution_count": 54
        }
      ]
    },
    {
      "cell_type": "code",
      "metadata": {
        "id": "pBWHMbn4yZUM",
        "colab_type": "code",
        "outputId": "082e493c-5c72-4c39-c9e1-71475fb46828",
        "colab": {
          "base_uri": "https://localhost:8080/",
          "height": 34
        }
      },
      "source": [
        "## precentage discarded hashtags\n",
        "\n",
        "print('precentage discarded hashtags: ',len(discarded_ht)*100/len(all_ht))"
      ],
      "execution_count": 0,
      "outputs": [
        {
          "output_type": "stream",
          "text": [
            "precentage discarded hashtags:  61.730899256254226\n"
          ],
          "name": "stdout"
        }
      ]
    },
    {
      "cell_type": "code",
      "metadata": {
        "id": "DvNdw4Q-wo6v",
        "colab_type": "code",
        "colab": {}
      },
      "source": [
        "# discarded_users"
      ],
      "execution_count": 0,
      "outputs": []
    },
    {
      "cell_type": "code",
      "metadata": {
        "id": "Xyid_YV_OQKZ",
        "colab_type": "code",
        "colab": {}
      },
      "source": [
        "from sklearn.metrics import classification_report"
      ],
      "execution_count": 0,
      "outputs": []
    },
    {
      "cell_type": "code",
      "metadata": {
        "id": "-hattz8yOcZI",
        "colab_type": "code",
        "outputId": "49390c5d-d79b-445b-a1ea-4356caab5e28",
        "colab": {
          "base_uri": "https://localhost:8080/",
          "height": 238
        }
      },
      "source": [
        "print(classification_report(act1,pred))"
      ],
      "execution_count": 0,
      "outputs": [
        {
          "output_type": "stream",
          "text": [
            "              precision    recall  f1-score   support\n",
            "\n",
            "           0       0.78      0.31      0.44      1050\n",
            "           1       0.64      0.94      0.76      1438\n",
            "           2       0.00      0.00      0.00        22\n",
            "\n",
            "    accuracy                           0.67      2510\n",
            "   macro avg       0.47      0.42      0.40      2510\n",
            "weighted avg       0.70      0.67      0.62      2510\n",
            "\n"
          ],
          "name": "stdout"
        },
        {
          "output_type": "stream",
          "text": [
            "/usr/local/lib/python3.6/dist-packages/sklearn/metrics/_classification.py:1272: UndefinedMetricWarning: Precision and F-score are ill-defined and being set to 0.0 in labels with no predicted samples. Use `zero_division` parameter to control this behavior.\n",
            "  _warn_prf(average, modifier, msg_start, len(result))\n"
          ],
          "name": "stderr"
        }
      ]
    },
    {
      "cell_type": "code",
      "metadata": {
        "id": "x1EepzQL0wGJ",
        "colab_type": "code",
        "colab": {}
      },
      "source": [
        "from sklearn.preprocessing import OneHotEncoder\n",
        "from sklearn.metrics import jaccard_score"
      ],
      "execution_count": 0,
      "outputs": []
    },
    {
      "cell_type": "code",
      "metadata": {
        "id": "qdRjRoylzAy4",
        "colab_type": "code",
        "colab": {}
      },
      "source": [
        "onehot = OneHotEncoder(handle_unknown='ignore')\n",
        "jaccard_gt = onehot.fit_transform([[i] for i in act1]).toarray()\n",
        "jaccard_pred = onehot.transform([[i] for i in pred]).toarray()"
      ],
      "execution_count": 0,
      "outputs": []
    },
    {
      "cell_type": "code",
      "metadata": {
        "id": "d8bG0P5MzGsk",
        "colab_type": "code",
        "outputId": "26bcff13-8cdd-4e63-88ee-8fd2f0bc97b2",
        "colab": {
          "base_uri": "https://localhost:8080/",
          "height": 34
        }
      },
      "source": [
        "print('jaccard score :',jaccard_score(jaccard_gt, jaccard_pred, average='samples'))"
      ],
      "execution_count": 0,
      "outputs": [
        {
          "output_type": "stream",
          "text": [
            "jaccard score : 0.6673306772908366\n"
          ],
          "name": "stdout"
        }
      ]
    },
    {
      "cell_type": "code",
      "metadata": {
        "id": "aTbQjcKrNSJF",
        "colab_type": "code",
        "outputId": "83a2c69b-2313-4229-c6c6-c1a877962aac",
        "colab": {
          "base_uri": "https://localhost:8080/",
          "height": 34
        }
      },
      "source": [
        "# len(dict1.keys())"
      ],
      "execution_count": 0,
      "outputs": [
        {
          "output_type": "execute_result",
          "data": {
            "text/plain": [
              "2510"
            ]
          },
          "metadata": {
            "tags": []
          },
          "execution_count": 38
        }
      ]
    }
  ]
}