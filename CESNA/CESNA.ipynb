{
 "cells": [
  {
   "cell_type": "code",
   "execution_count": 1,
   "metadata": {},
   "outputs": [],
   "source": [
    "import json\n",
    "import pprint"
   ]
  },
  {
   "cell_type": "code",
   "execution_count": 2,
   "metadata": {},
   "outputs": [],
   "source": [
    "tweets =[]\n",
    "with open('../Gamergate_Dataset/Gamergate.json','r') as f:\n",
    "    for line in f.readlines():\n",
    "        tweets.append(json.loads(line))"
   ]
  },
  {
   "cell_type": "code",
   "execution_count": 3,
   "metadata": {},
   "outputs": [],
   "source": [
    "with open('../Gamergate_Dataset/Labels_for_7320_users/gamergate_opposer_feminist_usernames', 'r') as f:\n",
    "    opposer =f.read().splitlines()\n",
    "with open('../Gamergate_Dataset/Labels_for_7320_users/gamergate_supporter_misogynist_usernames','r') as f:\n",
    "    supporter = f.read().splitlines()\n",
    "with open('../Gamergate_Dataset/Labels_for_7320_users/unaffiliated_usernames','r') as f:\n",
    "    unaffiliated = f.read().splitlines()"
   ]
  },
  {
   "cell_type": "code",
   "execution_count": 4,
   "metadata": {},
   "outputs": [],
   "source": [
    "allusers = opposer + unaffiliated + supporter"
   ]
  },
  {
   "cell_type": "code",
   "execution_count": 5,
   "metadata": {},
   "outputs": [],
   "source": [
    "import networkx as nx\n",
    "# import matplotlib.pyplot as plt\n",
    "G = nx.Graph()\n",
    "G.add_nodes_from(allusers)\n",
    "for tweet in tweets:\n",
    "    username = tweet['user']['screen_name']\n",
    "    if username not in allusers:\n",
    "        continue\n",
    "    if 'retweeted_status' not in tweet:\n",
    "        continue\n",
    "    retweeteduser = tweet['retweeted_status']['user']['screen_name']\n",
    "    if retweeteduser not in allusers:\n",
    "        continue\n",
    "    # G.add_nodes_from([username,retweeteduser])\n",
    "    G.add_edge(username,retweeteduser)\n",
    "G = G.to_undirected()"
   ]
  },
  {
   "cell_type": "code",
   "execution_count": 6,
   "metadata": {},
   "outputs": [],
   "source": [
    "\n",
    "user_number = list(G.nodes.keys())\n",
    "user_number = {user_number[i]: i for i in range(len(user_number))}\n"
   ]
  },
  {
   "cell_type": "markdown",
   "metadata": {},
   "source": [
    "## Edges file"
   ]
  },
  {
   "cell_type": "code",
   "execution_count": 8,
   "metadata": {},
   "outputs": [],
   "source": [
    "with open('gamergate.edges', 'w') as f:\n",
    "    for edge in G.edges():\n",
    "        f.write(str(user_number[edge[0]]) + '\\t' + str(user_number[edge[1]]) + '\\n')"
   ]
  },
  {
   "cell_type": "markdown",
   "metadata": {},
   "source": [
    "## Features file"
   ]
  },
  {
   "cell_type": "code",
   "execution_count": 8,
   "metadata": {},
   "outputs": [],
   "source": [
    "tweets_text = [tweet['text'] for tweet in tweets]"
   ]
  },
  {
   "cell_type": "code",
   "execution_count": 9,
   "metadata": {},
   "outputs": [],
   "source": [
    "from sklearn.feature_extraction.text import CountVectorizer"
   ]
  },
  {
   "cell_type": "code",
   "execution_count": 10,
   "metadata": {},
   "outputs": [
    {
     "data": {
      "text/plain": [
       "CountVectorizer(analyzer='word', binary=False, decode_error='strict',\n",
       "                dtype=<class 'numpy.int64'>, encoding='utf-8', input='content',\n",
       "                lowercase=True, max_df=1.0, max_features=None, min_df=1,\n",
       "                ngram_range=(1, 1), preprocessor=None, stop_words=None,\n",
       "                strip_accents=None, token_pattern='(?u)\\\\b\\\\w\\\\w+\\\\b',\n",
       "                tokenizer=None, vocabulary=None)"
      ]
     },
     "execution_count": 10,
     "metadata": {},
     "output_type": "execute_result"
    }
   ],
   "source": [
    "vectorizer = CountVectorizer()\n",
    "vectorizer.fit(tweets_text)"
   ]
  },
  {
   "cell_type": "code",
   "execution_count": 53,
   "metadata": {},
   "outputs": [],
   "source": [
    "user_texts = {k: \"\" for k, _ in user_number.items()}\n",
    "for tweet in tweets:\n",
    "    if 'retweeted_status' in tweet:\n",
    "        continue\n",
    "    if tweet['user']['screen_name'] in user_texts:\n",
    "        user_texts[tweet['user']['screen_name']] += ' ' + tweet['text']"
   ]
  },
  {
   "cell_type": "code",
   "execution_count": 88,
   "metadata": {
    "tags": [
     "outputPrepend",
     "outputPrepend",
     "outputPrepend",
     "outputPrepend",
     "outputPrepend",
     "outputPrepend",
     "outputPrepend",
     "outputPrepend",
     "outputPrepend"
    ]
   },
   "outputs": [],
   "source": [
    "with open(\"gamergate.nodefeat\", 'w') as f:\n",
    "    for user, text in user_texts.items():\n",
    "        text = vectorizer.transform([text])\n",
    "        text = text.toarray()[0]\n",
    "        user = user_number[user]\n",
    "        for i, enumi in enumerate(text):\n",
    "            if enumi != 0:\n",
    "                f.write(str(user) + '\\t' + str(i) + '\\n')"
   ]
  },
  {
   "cell_type": "markdown",
   "metadata": {},
   "source": [
    "## Feature Names file"
   ]
  },
  {
   "cell_type": "code",
   "execution_count": 16,
   "metadata": {},
   "outputs": [],
   "source": [
    "with open('gamergate.nodefeatnames', 'w') as f:\n",
    "    for name, feat_id in sorted(vectorizer.vocabulary_.items()):\n",
    "        f.write(str(feat_id) + '\\t' + name + '\\n')"
   ]
  },
  {
   "cell_type": "markdown",
   "metadata": {},
   "source": [
    "# Get Communities and Post-Processing"
   ]
  },
  {
   "cell_type": "code",
   "execution_count": 19,
   "metadata": {},
   "outputs": [],
   "source": [
    "communities = {}\n",
    "with open('gamergatecmtyvv.txt', 'r') as f:\n",
    "    for i in range(100):\n",
    "        communities[i] = list(map(int, f.readline().split('\\t')[:-1]))"
   ]
  },
  {
   "cell_type": "code",
   "execution_count": 20,
   "metadata": {},
   "outputs": [],
   "source": [
    "user_number_reversed = {v: k for k, v in user_number.items()}"
   ]
  },
  {
   "cell_type": "code",
   "execution_count": 21,
   "metadata": {},
   "outputs": [
    {
     "data": {
      "text/plain": [
       "2259"
      ]
     },
     "execution_count": 21,
     "metadata": {},
     "output_type": "execute_result"
    }
   ],
   "source": [
    "predicted_users = set()\n",
    "for community in communities.values():\n",
    "    predicted_users = predicted_users.union(community)\n",
    "len(predicted_users)    "
   ]
  },
  {
   "cell_type": "code",
   "execution_count": 22,
   "metadata": {},
   "outputs": [],
   "source": [
    "majorities = {}\n",
    "for community, users in communities.items():\n",
    "    o = 0\n",
    "    s = 0\n",
    "    u = 0\n",
    "    for sn in users:\n",
    "        sn = user_number_reversed[sn]\n",
    "        if sn in opposer:\n",
    "            o += 1\n",
    "        elif sn in supporter:\n",
    "            s += 1\n",
    "        else:\n",
    "            u += 1\n",
    "    if max(s, o, u) == s:\n",
    "        majorities[community] = 1\n",
    "    elif max(s, o, u) == o:\n",
    "        majorities[community] = 0\n",
    "    else:\n",
    "        majorities[community] = 2"
   ]
  },
  {
   "cell_type": "code",
   "execution_count": 23,
   "metadata": {},
   "outputs": [],
   "source": [
    "user_pred_labels = {k: [] for k in allusers}\n",
    "for community, users in communities.items():\n",
    "    for user in users:\n",
    "        user = user_number_reversed[user]\n",
    "        user_pred_labels[user].append(majorities[community])"
   ]
  },
  {
   "cell_type": "code",
   "execution_count": 24,
   "metadata": {},
   "outputs": [],
   "source": [
    "for user, labels in user_pred_labels.items():\n",
    "    if len(labels) == 0:\n",
    "        user_pred_labels[user] = -1\n",
    "        continue\n",
    "    user_pred_labels[user] = sum(user_pred_labels[user])*2//len(user_pred_labels[user])\n",
    "    if user_pred_labels[user] > 1:\n",
    "        user_pred_labels[user] = 1"
   ]
  },
  {
   "cell_type": "code",
   "execution_count": 111,
   "metadata": {},
   "outputs": [],
   "source": [
    "accuracy_user_pred = {k: v if v >= 0 else 2 for k, v in user_pred_labels.items()}"
   ]
  },
  {
   "cell_type": "code",
   "execution_count": 112,
   "metadata": {},
   "outputs": [],
   "source": [
    "accuracy_user_gt = {}\n",
    "for user, label in user_pred_labels.items():\n",
    "    if user in supporter:\n",
    "        accuracy_user_gt[user] = 1\n",
    "    elif user in opposer:\n",
    "        accuracy_user_gt[user] = 0\n",
    "    else:\n",
    "        accuracy_user_gt[user] = 2"
   ]
  },
  {
   "cell_type": "markdown",
   "metadata": {},
   "source": [
    "# Accuracy and Jaccard Scores"
   ]
  },
  {
   "cell_type": "code",
   "execution_count": 152,
   "metadata": {},
   "outputs": [],
   "source": [
    "from sklearn.metrics import classification_report, jaccard_score\n",
    "from sklearn.preprocessing import OneHotEncoder"
   ]
  },
  {
   "cell_type": "code",
   "execution_count": 114,
   "metadata": {},
   "outputs": [
    {
     "name": "stdout",
     "output_type": "stream",
     "text": [
      "precision    recall  f1-score   support\n",
      "\n",
      "           0       0.76      0.18      0.29      3778\n",
      "           1       0.70      0.31      0.43      3117\n",
      "           2       0.08      0.90      0.14       425\n",
      "\n",
      "    accuracy                           0.28      7320\n",
      "   macro avg       0.51      0.46      0.29      7320\n",
      "weighted avg       0.70      0.28      0.34      7320\n",
      "\n"
     ]
    }
   ],
   "source": [
    "print(classification_report(list(accuracy_user_gt.values()), list(accuracy_user_pred.values())))"
   ]
  },
  {
   "cell_type": "code",
   "execution_count": 143,
   "metadata": {},
   "outputs": [],
   "source": [
    "jaccard_user_pred = {k: v if v >= 0 else 2 for k, v in user_pred_labels.items()}"
   ]
  },
  {
   "cell_type": "code",
   "execution_count": 144,
   "metadata": {},
   "outputs": [],
   "source": [
    "jaccard_user_gt = {}\n",
    "for user, label in user_pred_labels.items():\n",
    "    if label == -1:\n",
    "        jaccard_user_gt[user] = 0\n",
    "    elif user in supporter:\n",
    "        jaccard_user_gt[user] = 1\n",
    "    elif user in opposer:\n",
    "        jaccard_user_gt[user] = 0\n",
    "    else:\n",
    "        jaccard_user_gt[user] = 2"
   ]
  },
  {
   "cell_type": "code",
   "execution_count": 176,
   "metadata": {},
   "outputs": [],
   "source": [
    "onehot = OneHotEncoder(handle_unknown='ignore')\n",
    "jaccard_gt = onehot.fit_transform([[i] for i in list(jaccard_user_gt.values())]).toarray()\n",
    "jaccard_pred = onehot.transform([[i] for i in list(jaccard_user_pred.values())]).toarray()"
   ]
  },
  {
   "cell_type": "code",
   "execution_count": 180,
   "metadata": {},
   "outputs": [
    {
     "name": "stdout",
     "output_type": "stream",
     "text": [
      "0.2244535519125683\n"
     ]
    }
   ],
   "source": [
    "print(jaccard_score(jaccard_gt, jaccard_pred, average='samples'))"
   ]
  },
  {
   "cell_type": "markdown",
   "metadata": {},
   "source": [
    "# Discarded Users"
   ]
  },
  {
   "cell_type": "code",
   "execution_count": 29,
   "metadata": {},
   "outputs": [],
   "source": [
    "discarded_users = [user for user in user_number if user not in accuracy_user_gt]"
   ]
  },
  {
   "cell_type": "code",
   "execution_count": 30,
   "metadata": {},
   "outputs": [
    {
     "data": {
      "text/plain": [
       "69.13934426229508"
      ]
     },
     "execution_count": 30,
     "metadata": {},
     "output_type": "execute_result"
    }
   ],
   "source": [
    "len(discarded_users)/(len(discarded_users) + len(accuracy_user_gt))*100"
   ]
  },
  {
   "cell_type": "markdown",
   "metadata": {},
   "source": [
    "# Discarded Hashtags"
   ]
  },
  {
   "cell_type": "code",
   "execution_count": 31,
   "metadata": {},
   "outputs": [],
   "source": [
    "discarded_ht = []\n",
    "for tweet in tweets:\n",
    "    if tweet['user']['screen_name'] in discarded_users:\n",
    "        discarded_ht.extend([ht['text'].lower() for ht in tweet['entities']['hashtags']])\n",
    "discarded_ht = set(discarded_ht)\n",
    "\n",
    "all_ht = []\n",
    "for tweet in tweets:\n",
    "    if tweet['user']['screen_name'] in allusers:\n",
    "        all_ht.extend([ht['text'].lower() for ht in tweet['entities']['hashtags']])\n",
    "all_ht = set(all_ht)"
   ]
  },
  {
   "cell_type": "code",
   "execution_count": 33,
   "metadata": {},
   "outputs": [
    {
     "data": {
      "text/plain": [
       "39.3106278210915"
      ]
     },
     "execution_count": 33,
     "metadata": {},
     "output_type": "execute_result"
    }
   ],
   "source": [
    "len(discarded_ht)/(len(all_ht))*100"
   ]
  }
 ],
 "metadata": {
  "kernelspec": {
   "display_name": "Python 3.8.2 64-bit ('clusterfuck': conda)",
   "language": "python",
   "name": "python38264bitclusterfuckconda11faec27ee674a6390a9afae81456834"
  },
  "language_info": {
   "codemirror_mode": {
    "name": "ipython",
    "version": 3
   },
   "file_extension": ".py",
   "mimetype": "text/x-python",
   "name": "python",
   "nbconvert_exporter": "python",
   "pygments_lexer": "ipython3",
   "version": "3.8.2"
  }
 },
 "nbformat": 4,
 "nbformat_minor": 2
}
